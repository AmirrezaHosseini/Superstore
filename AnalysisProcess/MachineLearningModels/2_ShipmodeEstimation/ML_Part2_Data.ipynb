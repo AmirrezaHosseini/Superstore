{
 "cells": [
  {
   "cell_type": "markdown",
   "id": "5450c297",
   "metadata": {},
   "source": [
    "# Import Required Libraries"
   ]
  },
  {
   "cell_type": "code",
   "execution_count": 1,
   "id": "34fa2151",
   "metadata": {},
   "outputs": [],
   "source": [
    "import pandas as pd\n",
    "import numpy as np\n",
    "import matplotlib.pyplot as plt\n",
    "import seaborn as sns\n",
    "from sqlalchemy import create_engine\n",
    "from sqlalchemy import URL\n",
    "from sqlalchemy import text\n",
    "from urllib.parse import quote_plus\n",
    "from sklearn.preprocessing import LabelEncoder\n",
    "from sklearn.feature_selection import mutual_info_classif"
   ]
  },
  {
   "cell_type": "markdown",
   "id": "51f99087",
   "metadata": {},
   "source": [
    "# create MySql URL"
   ]
  },
  {
   "cell_type": "code",
   "execution_count": 6,
   "id": "39aa4887",
   "metadata": {},
   "outputs": [],
   "source": [
    "url_object = URL.create(\n",
    "    \"mysql+mysqlconnector\",\n",
    "    username=\"root\",\n",
    "    password=\"\",\n",
    "    host=\"localhost\"\n",
    "    )"
   ]
  },
  {
   "cell_type": "markdown",
   "id": "06ba28b7",
   "metadata": {},
   "source": [
    "# create Engine"
   ]
  },
  {
   "cell_type": "code",
   "execution_count": 7,
   "id": "a2598499",
   "metadata": {},
   "outputs": [],
   "source": [
    "engin = create_engine(url_object)"
   ]
  },
  {
   "cell_type": "markdown",
   "id": "d8eb5dda",
   "metadata": {},
   "source": [
    "# Feach the Required DATA"
   ]
  },
  {
   "cell_type": "code",
   "execution_count": 39,
   "id": "bc4c4ad3",
   "metadata": {},
   "outputs": [],
   "source": [
    "query = (\"SELECT o.`Order ID` AS `Order ID`, \"\n",
    "         \"o.`Order Priority` AS `Order Priority`, \"\n",
    "         \"o.Market AS Market, \"\n",
    "         \"od.Sales AS Sales, \"\n",
    "         \"od.Quantity AS Quantity, \"\n",
    "         \"od.`Shipping Cost` AS `Shipping Cost`, \"\n",
    "         \"od.`Discount` AS Discount, \"\n",
    "         \"s.City AS City, \"\n",
    "         \"s.State AS State, \"\n",
    "         \"s.Country AS Country, \"\n",
    "         \"s.Region AS Region, \"\n",
    "         \"p.Category AS 'product category', \"\n",
    "         \"s.`Ship Mode` AS `Ship Mode` \"\n",
    "         \"FROM `order` o \"\n",
    "         \"JOIN shipping s on o.`Order ID` = s.`Order ID` \"\n",
    "         \"JOIN order_detail od on o.`Order ID` = od.`Order ID` \"\n",
    "         \"JOIN product p on p.`Product ID` = od.`Product ID`;\")\n",
    "         "
   ]
  },
  {
   "cell_type": "code",
   "execution_count": 40,
   "id": "96e7ccff",
   "metadata": {},
   "outputs": [],
   "source": [
    "with engin.connect() as conn:\n",
    "    conn.execute(text(\"USE SuperStore\"))\n",
    "    df = pd.read_sql(text(query), conn)"
   ]
  },
  {
   "cell_type": "code",
   "execution_count": 41,
   "id": "6cc181ba",
   "metadata": {},
   "outputs": [
    {
     "data": {
      "text/html": [
       "<div>\n",
       "<style scoped>\n",
       "    .dataframe tbody tr th:only-of-type {\n",
       "        vertical-align: middle;\n",
       "    }\n",
       "\n",
       "    .dataframe tbody tr th {\n",
       "        vertical-align: top;\n",
       "    }\n",
       "\n",
       "    .dataframe thead th {\n",
       "        text-align: right;\n",
       "    }\n",
       "</style>\n",
       "<table border=\"1\" class=\"dataframe\">\n",
       "  <thead>\n",
       "    <tr style=\"text-align: right;\">\n",
       "      <th></th>\n",
       "      <th>Order ID</th>\n",
       "      <th>Order Priority</th>\n",
       "      <th>Market</th>\n",
       "      <th>Sales</th>\n",
       "      <th>Quantity</th>\n",
       "      <th>Shipping Cost</th>\n",
       "      <th>Discount</th>\n",
       "      <th>City</th>\n",
       "      <th>State</th>\n",
       "      <th>Country</th>\n",
       "      <th>Region</th>\n",
       "      <th>product category</th>\n",
       "      <th>Ship Mode</th>\n",
       "    </tr>\n",
       "  </thead>\n",
       "  <tbody>\n",
       "    <tr>\n",
       "      <th>0</th>\n",
       "      <td>AE-2011-9160</td>\n",
       "      <td>Medium</td>\n",
       "      <td>EMEA</td>\n",
       "      <td>78.408</td>\n",
       "      <td>6</td>\n",
       "      <td>3.87</td>\n",
       "      <td>0.7</td>\n",
       "      <td>Ajman</td>\n",
       "      <td>'Ajman</td>\n",
       "      <td>United Arab Emirates</td>\n",
       "      <td>EMEA</td>\n",
       "      <td>Technology</td>\n",
       "      <td>Standard Class</td>\n",
       "    </tr>\n",
       "    <tr>\n",
       "      <th>1</th>\n",
       "      <td>AE-2011-9160</td>\n",
       "      <td>Medium</td>\n",
       "      <td>EMEA</td>\n",
       "      <td>82.674</td>\n",
       "      <td>2</td>\n",
       "      <td>5.69</td>\n",
       "      <td>0.7</td>\n",
       "      <td>Ajman</td>\n",
       "      <td>'Ajman</td>\n",
       "      <td>United Arab Emirates</td>\n",
       "      <td>EMEA</td>\n",
       "      <td>Office Supplies</td>\n",
       "      <td>Standard Class</td>\n",
       "    </tr>\n",
       "    <tr>\n",
       "      <th>2</th>\n",
       "      <td>AE-2013-1130</td>\n",
       "      <td>High</td>\n",
       "      <td>EMEA</td>\n",
       "      <td>4.248</td>\n",
       "      <td>1</td>\n",
       "      <td>0.10</td>\n",
       "      <td>0.7</td>\n",
       "      <td>Ras al Khaymah</td>\n",
       "      <td>Ra's Al Khaymah</td>\n",
       "      <td>United Arab Emirates</td>\n",
       "      <td>EMEA</td>\n",
       "      <td>Office Supplies</td>\n",
       "      <td>Same Day</td>\n",
       "    </tr>\n",
       "    <tr>\n",
       "      <th>3</th>\n",
       "      <td>AE-2013-1130</td>\n",
       "      <td>High</td>\n",
       "      <td>EMEA</td>\n",
       "      <td>224.748</td>\n",
       "      <td>6</td>\n",
       "      <td>60.08</td>\n",
       "      <td>0.7</td>\n",
       "      <td>Ras al Khaymah</td>\n",
       "      <td>Ra's Al Khaymah</td>\n",
       "      <td>United Arab Emirates</td>\n",
       "      <td>EMEA</td>\n",
       "      <td>Furniture</td>\n",
       "      <td>Same Day</td>\n",
       "    </tr>\n",
       "    <tr>\n",
       "      <th>4</th>\n",
       "      <td>AE-2013-1530</td>\n",
       "      <td>High</td>\n",
       "      <td>EMEA</td>\n",
       "      <td>6.966</td>\n",
       "      <td>1</td>\n",
       "      <td>1.75</td>\n",
       "      <td>0.7</td>\n",
       "      <td>Ras al Khaymah</td>\n",
       "      <td>Ra's Al Khaymah</td>\n",
       "      <td>United Arab Emirates</td>\n",
       "      <td>EMEA</td>\n",
       "      <td>Office Supplies</td>\n",
       "      <td>Second Class</td>\n",
       "    </tr>\n",
       "  </tbody>\n",
       "</table>\n",
       "</div>"
      ],
      "text/plain": [
       "       Order ID Order Priority Market    Sales  Quantity  Shipping Cost  \\\n",
       "0  AE-2011-9160         Medium   EMEA   78.408         6           3.87   \n",
       "1  AE-2011-9160         Medium   EMEA   82.674         2           5.69   \n",
       "2  AE-2013-1130           High   EMEA    4.248         1           0.10   \n",
       "3  AE-2013-1130           High   EMEA  224.748         6          60.08   \n",
       "4  AE-2013-1530           High   EMEA    6.966         1           1.75   \n",
       "\n",
       "   Discount            City            State               Country Region  \\\n",
       "0       0.7           Ajman           'Ajman  United Arab Emirates   EMEA   \n",
       "1       0.7           Ajman           'Ajman  United Arab Emirates   EMEA   \n",
       "2       0.7  Ras al Khaymah  Ra's Al Khaymah  United Arab Emirates   EMEA   \n",
       "3       0.7  Ras al Khaymah  Ra's Al Khaymah  United Arab Emirates   EMEA   \n",
       "4       0.7  Ras al Khaymah  Ra's Al Khaymah  United Arab Emirates   EMEA   \n",
       "\n",
       "  product category       Ship Mode  \n",
       "0       Technology  Standard Class  \n",
       "1  Office Supplies  Standard Class  \n",
       "2  Office Supplies        Same Day  \n",
       "3        Furniture        Same Day  \n",
       "4  Office Supplies    Second Class  "
      ]
     },
     "execution_count": 41,
     "metadata": {},
     "output_type": "execute_result"
    }
   ],
   "source": [
    "df.head() "
   ]
  },
  {
   "cell_type": "markdown",
   "id": "b447594f",
   "metadata": {},
   "source": [
    "# DATA Information"
   ]
  },
  {
   "cell_type": "code",
   "execution_count": 42,
   "id": "36a924d3",
   "metadata": {},
   "outputs": [
    {
     "data": {
      "text/plain": [
       "(49670, 13)"
      ]
     },
     "execution_count": 42,
     "metadata": {},
     "output_type": "execute_result"
    }
   ],
   "source": [
    "np.shape(df)"
   ]
  },
  {
   "cell_type": "code",
   "execution_count": 43,
   "id": "85af8b3f",
   "metadata": {},
   "outputs": [
    {
     "name": "stdout",
     "output_type": "stream",
     "text": [
      "Order ID             object\n",
      "Order Priority       object\n",
      "Market               object\n",
      "Sales               float64\n",
      "Quantity              int64\n",
      "Shipping Cost       float64\n",
      "Discount            float64\n",
      "City                 object\n",
      "State                object\n",
      "Country              object\n",
      "Region               object\n",
      "product category     object\n",
      "Ship Mode            object\n",
      "dtype: object\n"
     ]
    }
   ],
   "source": [
    "print(df.dtypes)"
   ]
  },
  {
   "cell_type": "code",
   "execution_count": 44,
   "id": "3972db71",
   "metadata": {},
   "outputs": [
    {
     "data": {
      "text/plain": [
       "Order ID            0\n",
       "Order Priority      0\n",
       "Market              0\n",
       "Sales               0\n",
       "Quantity            0\n",
       "Shipping Cost       0\n",
       "Discount            0\n",
       "City                0\n",
       "State               0\n",
       "Country             0\n",
       "Region              0\n",
       "product category    0\n",
       "Ship Mode           0\n",
       "dtype: int64"
      ]
     },
     "execution_count": 44,
     "metadata": {},
     "output_type": "execute_result"
    }
   ],
   "source": [
    "df.isnull().sum()"
   ]
  },
  {
   "cell_type": "code",
   "execution_count": 45,
   "id": "dc1a3479",
   "metadata": {},
   "outputs": [
    {
     "data": {
      "text/plain": [
       "array(['APAC', 'Africa', 'Canada', 'EMEA', 'EU', 'LATAM', 'US'],\n",
       "      dtype=object)"
      ]
     },
     "execution_count": 45,
     "metadata": {},
     "output_type": "execute_result"
    }
   ],
   "source": [
    "np.unique(df['Market'])"
   ]
  },
  {
   "cell_type": "code",
   "execution_count": 46,
   "id": "039a4a35",
   "metadata": {},
   "outputs": [
    {
     "data": {
      "text/plain": [
       "3590"
      ]
     },
     "execution_count": 46,
     "metadata": {},
     "output_type": "execute_result"
    }
   ],
   "source": [
    "len(np.unique(df['City']))"
   ]
  },
  {
   "cell_type": "code",
   "execution_count": 47,
   "id": "3b880876",
   "metadata": {},
   "outputs": [
    {
     "data": {
      "text/plain": [
       "1089"
      ]
     },
     "execution_count": 47,
     "metadata": {},
     "output_type": "execute_result"
    }
   ],
   "source": [
    "len(np.unique(df['State']))"
   ]
  },
  {
   "cell_type": "code",
   "execution_count": 48,
   "id": "fbb866dc",
   "metadata": {},
   "outputs": [
    {
     "data": {
      "text/plain": [
       "147"
      ]
     },
     "execution_count": 48,
     "metadata": {},
     "output_type": "execute_result"
    }
   ],
   "source": [
    "len(np.unique(df['Country']))"
   ]
  },
  {
   "cell_type": "code",
   "execution_count": 49,
   "id": "49e3e5a8",
   "metadata": {},
   "outputs": [
    {
     "data": {
      "text/plain": [
       "array(['Africa', 'Canada', 'Caribbean', 'Central', 'Central Asia', 'EMEA',\n",
       "       'East', 'North', 'North Asia', 'Oceania', 'South',\n",
       "       'Southeast Asia', 'West'], dtype=object)"
      ]
     },
     "execution_count": 49,
     "metadata": {},
     "output_type": "execute_result"
    }
   ],
   "source": [
    "np.unique(df['Region']) "
   ]
  },
  {
   "cell_type": "code",
   "execution_count": 50,
   "id": "f3017c4e",
   "metadata": {},
   "outputs": [
    {
     "data": {
      "text/plain": [
       "4"
      ]
     },
     "execution_count": 50,
     "metadata": {},
     "output_type": "execute_result"
    }
   ],
   "source": [
    "len(np.unique(df['Ship Mode']))"
   ]
  },
  {
   "cell_type": "code",
   "execution_count": 51,
   "id": "acc5e3e3",
   "metadata": {},
   "outputs": [],
   "source": [
    "labels=df['Ship Mode'].value_counts()"
   ]
  },
  {
   "cell_type": "code",
   "execution_count": 52,
   "id": "c7bc462d",
   "metadata": {},
   "outputs": [
    {
     "data": {
      "image/png": "[encoded data removed]",
      "text/plain": [
       "<Figure size 1000x800 with 1 Axes>"
      ]
     },
     "metadata": {},
     "output_type": "display_data"
    }
   ],
   "source": [
    "fig, ax = plt.subplots(figsize=(10,8))\n",
    "sns.barplot(x=labels.index,y=labels.values, ax=ax)\n",
    "\n",
    "ax.bar_label(ax.containers[0], label_type='edge')\n",
    "\n",
    "ax.margins(y=0.3, x=0.05)\n",
    "plt.xlabel('labels')\n",
    "plt.ylabel('Count')\n",
    "plt.title('Count of each labels')\n",
    "plt.show()"
   ]
  },
  {
   "cell_type": "markdown",
   "id": "64cc3e43",
   "metadata": {},
   "source": [
    "# DATA Preprocessing"
   ]
  },
  {
   "cell_type": "code",
   "execution_count": 53,
   "id": "03eaf7ca",
   "metadata": {},
   "outputs": [
    {
     "data": {
      "text/html": [
       "<div>\n",
       "<style scoped>\n",
       "    .dataframe tbody tr th:only-of-type {\n",
       "        vertical-align: middle;\n",
       "    }\n",
       "\n",
       "    .dataframe tbody tr th {\n",
       "        vertical-align: top;\n",
       "    }\n",
       "\n",
       "    .dataframe thead th {\n",
       "        text-align: right;\n",
       "    }\n",
       "</style>\n",
       "<table border=\"1\" class=\"dataframe\">\n",
       "  <thead>\n",
       "    <tr style=\"text-align: right;\">\n",
       "      <th></th>\n",
       "      <th>Order ID</th>\n",
       "      <th>Order Priority</th>\n",
       "      <th>Market</th>\n",
       "      <th>Sales</th>\n",
       "      <th>Quantity</th>\n",
       "      <th>Shipping Cost</th>\n",
       "      <th>Discount</th>\n",
       "      <th>City</th>\n",
       "      <th>State</th>\n",
       "      <th>Country</th>\n",
       "      <th>Region</th>\n",
       "      <th>product category</th>\n",
       "      <th>Ship Mode</th>\n",
       "    </tr>\n",
       "  </thead>\n",
       "  <tbody>\n",
       "    <tr>\n",
       "      <th>0</th>\n",
       "      <td>AE-2011-9160</td>\n",
       "      <td>Medium</td>\n",
       "      <td>EMEA</td>\n",
       "      <td>78.408</td>\n",
       "      <td>6</td>\n",
       "      <td>3.87</td>\n",
       "      <td>0.7</td>\n",
       "      <td>Ajman</td>\n",
       "      <td>'Ajman</td>\n",
       "      <td>United Arab Emirates</td>\n",
       "      <td>EMEA</td>\n",
       "      <td>Technology</td>\n",
       "      <td>Standard Class</td>\n",
       "    </tr>\n",
       "    <tr>\n",
       "      <th>1</th>\n",
       "      <td>AE-2011-9160</td>\n",
       "      <td>Medium</td>\n",
       "      <td>EMEA</td>\n",
       "      <td>82.674</td>\n",
       "      <td>2</td>\n",
       "      <td>5.69</td>\n",
       "      <td>0.7</td>\n",
       "      <td>Ajman</td>\n",
       "      <td>'Ajman</td>\n",
       "      <td>United Arab Emirates</td>\n",
       "      <td>EMEA</td>\n",
       "      <td>Office Supplies</td>\n",
       "      <td>Standard Class</td>\n",
       "    </tr>\n",
       "    <tr>\n",
       "      <th>2</th>\n",
       "      <td>AE-2013-1130</td>\n",
       "      <td>High</td>\n",
       "      <td>EMEA</td>\n",
       "      <td>4.248</td>\n",
       "      <td>1</td>\n",
       "      <td>0.10</td>\n",
       "      <td>0.7</td>\n",
       "      <td>Ras al Khaymah</td>\n",
       "      <td>Ra's Al Khaymah</td>\n",
       "      <td>United Arab Emirates</td>\n",
       "      <td>EMEA</td>\n",
       "      <td>Office Supplies</td>\n",
       "      <td>Same Day</td>\n",
       "    </tr>\n",
       "    <tr>\n",
       "      <th>3</th>\n",
       "      <td>AE-2013-1130</td>\n",
       "      <td>High</td>\n",
       "      <td>EMEA</td>\n",
       "      <td>224.748</td>\n",
       "      <td>6</td>\n",
       "      <td>60.08</td>\n",
       "      <td>0.7</td>\n",
       "      <td>Ras al Khaymah</td>\n",
       "      <td>Ra's Al Khaymah</td>\n",
       "      <td>United Arab Emirates</td>\n",
       "      <td>EMEA</td>\n",
       "      <td>Furniture</td>\n",
       "      <td>Same Day</td>\n",
       "    </tr>\n",
       "    <tr>\n",
       "      <th>4</th>\n",
       "      <td>AE-2013-1530</td>\n",
       "      <td>High</td>\n",
       "      <td>EMEA</td>\n",
       "      <td>6.966</td>\n",
       "      <td>1</td>\n",
       "      <td>1.75</td>\n",
       "      <td>0.7</td>\n",
       "      <td>Ras al Khaymah</td>\n",
       "      <td>Ra's Al Khaymah</td>\n",
       "      <td>United Arab Emirates</td>\n",
       "      <td>EMEA</td>\n",
       "      <td>Office Supplies</td>\n",
       "      <td>Second Class</td>\n",
       "    </tr>\n",
       "  </tbody>\n",
       "</table>\n",
       "</div>"
      ],
      "text/plain": [
       "       Order ID Order Priority Market    Sales  Quantity  Shipping Cost  \\\n",
       "0  AE-2011-9160         Medium   EMEA   78.408         6           3.87   \n",
       "1  AE-2011-9160         Medium   EMEA   82.674         2           5.69   \n",
       "2  AE-2013-1130           High   EMEA    4.248         1           0.10   \n",
       "3  AE-2013-1130           High   EMEA  224.748         6          60.08   \n",
       "4  AE-2013-1530           High   EMEA    6.966         1           1.75   \n",
       "\n",
       "   Discount            City            State               Country Region  \\\n",
       "0       0.7           Ajman           'Ajman  United Arab Emirates   EMEA   \n",
       "1       0.7           Ajman           'Ajman  United Arab Emirates   EMEA   \n",
       "2       0.7  Ras al Khaymah  Ra's Al Khaymah  United Arab Emirates   EMEA   \n",
       "3       0.7  Ras al Khaymah  Ra's Al Khaymah  United Arab Emirates   EMEA   \n",
       "4       0.7  Ras al Khaymah  Ra's Al Khaymah  United Arab Emirates   EMEA   \n",
       "\n",
       "  product category       Ship Mode  \n",
       "0       Technology  Standard Class  \n",
       "1  Office Supplies  Standard Class  \n",
       "2  Office Supplies        Same Day  \n",
       "3        Furniture        Same Day  \n",
       "4  Office Supplies    Second Class  "
      ]
     },
     "execution_count": 53,
     "metadata": {},
     "output_type": "execute_result"
    }
   ],
   "source": [
    "df.head()"
   ]
  },
  {
   "cell_type": "code",
   "execution_count": 54,
   "id": "56f4146c",
   "metadata": {},
   "outputs": [],
   "source": [
    "Priority_le = LabelEncoder()\n",
    "Market_le = LabelEncoder()\n",
    "city_le = LabelEncoder()\n",
    "state_le = LabelEncoder()\n",
    "Country_le = LabelEncoder()\n",
    "Region_le = LabelEncoder()\n",
    "product_category = LabelEncoder()\n",
    "#Ship_Mode = LabelEncoder()"
   ]
  },
  {
   "cell_type": "code",
   "execution_count": 55,
   "id": "2cb0d7b4",
   "metadata": {},
   "outputs": [],
   "source": [
    "df['Order Priority'] = Priority_le.fit_transform(df['Order Priority'])\n",
    "df['Market'] = Market_le.fit_transform(df['Market'])\n",
    "df['City'] = city_le.fit_transform(df['City'])\n",
    "df['State'] = state_le.fit_transform(df['State'])\n",
    "df['Country'] = Country_le.fit_transform(df['Country'])\n",
    "df['Region'] = Region_le.fit_transform(df['Region'])\n",
    "df['product category'] = product_category.fit_transform(df['product category'])\n",
    "#df['Ship Mode'] = Ship_Mode.fit_transform(df['Ship Mode'])"
   ]
  },
  {
   "cell_type": "code",
   "execution_count": 56,
   "id": "94610fc4",
   "metadata": {},
   "outputs": [
    {
     "data": {
      "text/html": [
       "<div>\n",
       "<style scoped>\n",
       "    .dataframe tbody tr th:only-of-type {\n",
       "        vertical-align: middle;\n",
       "    }\n",
       "\n",
       "    .dataframe tbody tr th {\n",
       "        vertical-align: top;\n",
       "    }\n",
       "\n",
       "    .dataframe thead th {\n",
       "        text-align: right;\n",
       "    }\n",
       "</style>\n",
       "<table border=\"1\" class=\"dataframe\">\n",
       "  <thead>\n",
       "    <tr style=\"text-align: right;\">\n",
       "      <th></th>\n",
       "      <th>Order ID</th>\n",
       "      <th>Order Priority</th>\n",
       "      <th>Market</th>\n",
       "      <th>Sales</th>\n",
       "      <th>Quantity</th>\n",
       "      <th>Shipping Cost</th>\n",
       "      <th>Discount</th>\n",
       "      <th>City</th>\n",
       "      <th>State</th>\n",
       "      <th>Country</th>\n",
       "      <th>Region</th>\n",
       "      <th>product category</th>\n",
       "      <th>Ship Mode</th>\n",
       "    </tr>\n",
       "  </thead>\n",
       "  <tbody>\n",
       "    <tr>\n",
       "      <th>0</th>\n",
       "      <td>AE-2011-9160</td>\n",
       "      <td>3</td>\n",
       "      <td>3</td>\n",
       "      <td>78.408</td>\n",
       "      <td>6</td>\n",
       "      <td>3.87</td>\n",
       "      <td>0.7</td>\n",
       "      <td>41</td>\n",
       "      <td>0</td>\n",
       "      <td>137</td>\n",
       "      <td>5</td>\n",
       "      <td>2</td>\n",
       "      <td>Standard Class</td>\n",
       "    </tr>\n",
       "    <tr>\n",
       "      <th>1</th>\n",
       "      <td>AE-2011-9160</td>\n",
       "      <td>3</td>\n",
       "      <td>3</td>\n",
       "      <td>82.674</td>\n",
       "      <td>2</td>\n",
       "      <td>5.69</td>\n",
       "      <td>0.7</td>\n",
       "      <td>41</td>\n",
       "      <td>0</td>\n",
       "      <td>137</td>\n",
       "      <td>5</td>\n",
       "      <td>1</td>\n",
       "      <td>Standard Class</td>\n",
       "    </tr>\n",
       "    <tr>\n",
       "      <th>2</th>\n",
       "      <td>AE-2013-1130</td>\n",
       "      <td>1</td>\n",
       "      <td>3</td>\n",
       "      <td>4.248</td>\n",
       "      <td>1</td>\n",
       "      <td>0.10</td>\n",
       "      <td>0.7</td>\n",
       "      <td>2635</td>\n",
       "      <td>821</td>\n",
       "      <td>137</td>\n",
       "      <td>5</td>\n",
       "      <td>1</td>\n",
       "      <td>Same Day</td>\n",
       "    </tr>\n",
       "    <tr>\n",
       "      <th>3</th>\n",
       "      <td>AE-2013-1130</td>\n",
       "      <td>1</td>\n",
       "      <td>3</td>\n",
       "      <td>224.748</td>\n",
       "      <td>6</td>\n",
       "      <td>60.08</td>\n",
       "      <td>0.7</td>\n",
       "      <td>2635</td>\n",
       "      <td>821</td>\n",
       "      <td>137</td>\n",
       "      <td>5</td>\n",
       "      <td>0</td>\n",
       "      <td>Same Day</td>\n",
       "    </tr>\n",
       "    <tr>\n",
       "      <th>4</th>\n",
       "      <td>AE-2013-1530</td>\n",
       "      <td>1</td>\n",
       "      <td>3</td>\n",
       "      <td>6.966</td>\n",
       "      <td>1</td>\n",
       "      <td>1.75</td>\n",
       "      <td>0.7</td>\n",
       "      <td>2635</td>\n",
       "      <td>821</td>\n",
       "      <td>137</td>\n",
       "      <td>5</td>\n",
       "      <td>1</td>\n",
       "      <td>Second Class</td>\n",
       "    </tr>\n",
       "  </tbody>\n",
       "</table>\n",
       "</div>"
      ],
      "text/plain": [
       "       Order ID  Order Priority  Market    Sales  Quantity  Shipping Cost  \\\n",
       "0  AE-2011-9160               3       3   78.408         6           3.87   \n",
       "1  AE-2011-9160               3       3   82.674         2           5.69   \n",
       "2  AE-2013-1130               1       3    4.248         1           0.10   \n",
       "3  AE-2013-1130               1       3  224.748         6          60.08   \n",
       "4  AE-2013-1530               1       3    6.966         1           1.75   \n",
       "\n",
       "   Discount  City  State  Country  Region  product category       Ship Mode  \n",
       "0       0.7    41      0      137       5                 2  Standard Class  \n",
       "1       0.7    41      0      137       5                 1  Standard Class  \n",
       "2       0.7  2635    821      137       5                 1        Same Day  \n",
       "3       0.7  2635    821      137       5                 0        Same Day  \n",
       "4       0.7  2635    821      137       5                 1    Second Class  "
      ]
     },
     "execution_count": 56,
     "metadata": {},
     "output_type": "execute_result"
    }
   ],
   "source": [
    "df.head()"
   ]
  },
  {
   "cell_type": "code",
   "execution_count": 57,
   "id": "da9b9901",
   "metadata": {},
   "outputs": [],
   "source": [
    "df.drop(['Order ID'], axis=1, inplace=True)"
   ]
  },
  {
   "cell_type": "code",
   "execution_count": 58,
   "id": "b43c9b8f",
   "metadata": {},
   "outputs": [
    {
     "name": "stdout",
     "output_type": "stream",
     "text": [
      "Order Priority        int64\n",
      "Market                int64\n",
      "Sales               float64\n",
      "Quantity              int64\n",
      "Shipping Cost       float64\n",
      "Discount            float64\n",
      "City                  int64\n",
      "State                 int64\n",
      "Country               int64\n",
      "Region                int64\n",
      "product category      int64\n",
      "Ship Mode            object\n",
      "dtype: object\n"
     ]
    }
   ],
   "source": [
    "print(df.dtypes)"
   ]
  },
  {
   "cell_type": "code",
   "execution_count": 59,
   "id": "1b2ff063",
   "metadata": {},
   "outputs": [
    {
     "data": {
      "text/html": [
       "<div>\n",
       "<style scoped>\n",
       "    .dataframe tbody tr th:only-of-type {\n",
       "        vertical-align: middle;\n",
       "    }\n",
       "\n",
       "    .dataframe tbody tr th {\n",
       "        vertical-align: top;\n",
       "    }\n",
       "\n",
       "    .dataframe thead th {\n",
       "        text-align: right;\n",
       "    }\n",
       "</style>\n",
       "<table border=\"1\" class=\"dataframe\">\n",
       "  <thead>\n",
       "    <tr style=\"text-align: right;\">\n",
       "      <th></th>\n",
       "      <th>Order Priority</th>\n",
       "      <th>Market</th>\n",
       "      <th>Sales</th>\n",
       "      <th>Quantity</th>\n",
       "      <th>Shipping Cost</th>\n",
       "      <th>Discount</th>\n",
       "      <th>City</th>\n",
       "      <th>State</th>\n",
       "      <th>Country</th>\n",
       "      <th>Region</th>\n",
       "      <th>product category</th>\n",
       "      <th>Ship Mode</th>\n",
       "    </tr>\n",
       "  </thead>\n",
       "  <tbody>\n",
       "    <tr>\n",
       "      <th>0</th>\n",
       "      <td>3</td>\n",
       "      <td>3</td>\n",
       "      <td>78.408</td>\n",
       "      <td>6</td>\n",
       "      <td>3.87</td>\n",
       "      <td>0.7</td>\n",
       "      <td>41</td>\n",
       "      <td>0</td>\n",
       "      <td>137</td>\n",
       "      <td>5</td>\n",
       "      <td>2</td>\n",
       "      <td>Standard Class</td>\n",
       "    </tr>\n",
       "    <tr>\n",
       "      <th>1</th>\n",
       "      <td>3</td>\n",
       "      <td>3</td>\n",
       "      <td>82.674</td>\n",
       "      <td>2</td>\n",
       "      <td>5.69</td>\n",
       "      <td>0.7</td>\n",
       "      <td>41</td>\n",
       "      <td>0</td>\n",
       "      <td>137</td>\n",
       "      <td>5</td>\n",
       "      <td>1</td>\n",
       "      <td>Standard Class</td>\n",
       "    </tr>\n",
       "    <tr>\n",
       "      <th>2</th>\n",
       "      <td>1</td>\n",
       "      <td>3</td>\n",
       "      <td>4.248</td>\n",
       "      <td>1</td>\n",
       "      <td>0.10</td>\n",
       "      <td>0.7</td>\n",
       "      <td>2635</td>\n",
       "      <td>821</td>\n",
       "      <td>137</td>\n",
       "      <td>5</td>\n",
       "      <td>1</td>\n",
       "      <td>Same Day</td>\n",
       "    </tr>\n",
       "    <tr>\n",
       "      <th>3</th>\n",
       "      <td>1</td>\n",
       "      <td>3</td>\n",
       "      <td>224.748</td>\n",
       "      <td>6</td>\n",
       "      <td>60.08</td>\n",
       "      <td>0.7</td>\n",
       "      <td>2635</td>\n",
       "      <td>821</td>\n",
       "      <td>137</td>\n",
       "      <td>5</td>\n",
       "      <td>0</td>\n",
       "      <td>Same Day</td>\n",
       "    </tr>\n",
       "    <tr>\n",
       "      <th>4</th>\n",
       "      <td>1</td>\n",
       "      <td>3</td>\n",
       "      <td>6.966</td>\n",
       "      <td>1</td>\n",
       "      <td>1.75</td>\n",
       "      <td>0.7</td>\n",
       "      <td>2635</td>\n",
       "      <td>821</td>\n",
       "      <td>137</td>\n",
       "      <td>5</td>\n",
       "      <td>1</td>\n",
       "      <td>Second Class</td>\n",
       "    </tr>\n",
       "    <tr>\n",
       "      <th>5</th>\n",
       "      <td>1</td>\n",
       "      <td>3</td>\n",
       "      <td>16.668</td>\n",
       "      <td>2</td>\n",
       "      <td>1.41</td>\n",
       "      <td>0.7</td>\n",
       "      <td>2635</td>\n",
       "      <td>821</td>\n",
       "      <td>137</td>\n",
       "      <td>5</td>\n",
       "      <td>1</td>\n",
       "      <td>Second Class</td>\n",
       "    </tr>\n",
       "    <tr>\n",
       "      <th>6</th>\n",
       "      <td>0</td>\n",
       "      <td>3</td>\n",
       "      <td>42.480</td>\n",
       "      <td>1</td>\n",
       "      <td>8.04</td>\n",
       "      <td>0.7</td>\n",
       "      <td>41</td>\n",
       "      <td>0</td>\n",
       "      <td>137</td>\n",
       "      <td>5</td>\n",
       "      <td>1</td>\n",
       "      <td>First Class</td>\n",
       "    </tr>\n",
       "    <tr>\n",
       "      <th>7</th>\n",
       "      <td>3</td>\n",
       "      <td>3</td>\n",
       "      <td>77.256</td>\n",
       "      <td>8</td>\n",
       "      <td>4.08</td>\n",
       "      <td>0.7</td>\n",
       "      <td>2635</td>\n",
       "      <td>821</td>\n",
       "      <td>137</td>\n",
       "      <td>5</td>\n",
       "      <td>1</td>\n",
       "      <td>Standard Class</td>\n",
       "    </tr>\n",
       "    <tr>\n",
       "      <th>8</th>\n",
       "      <td>3</td>\n",
       "      <td>3</td>\n",
       "      <td>3.159</td>\n",
       "      <td>1</td>\n",
       "      <td>0.25</td>\n",
       "      <td>0.7</td>\n",
       "      <td>2635</td>\n",
       "      <td>821</td>\n",
       "      <td>137</td>\n",
       "      <td>5</td>\n",
       "      <td>1</td>\n",
       "      <td>Standard Class</td>\n",
       "    </tr>\n",
       "    <tr>\n",
       "      <th>9</th>\n",
       "      <td>3</td>\n",
       "      <td>3</td>\n",
       "      <td>59.373</td>\n",
       "      <td>1</td>\n",
       "      <td>5.83</td>\n",
       "      <td>0.7</td>\n",
       "      <td>2635</td>\n",
       "      <td>821</td>\n",
       "      <td>137</td>\n",
       "      <td>5</td>\n",
       "      <td>1</td>\n",
       "      <td>Standard Class</td>\n",
       "    </tr>\n",
       "  </tbody>\n",
       "</table>\n",
       "</div>"
      ],
      "text/plain": [
       "   Order Priority  Market    Sales  Quantity  Shipping Cost  Discount  City  \\\n",
       "0               3       3   78.408         6           3.87       0.7    41   \n",
       "1               3       3   82.674         2           5.69       0.7    41   \n",
       "2               1       3    4.248         1           0.10       0.7  2635   \n",
       "3               1       3  224.748         6          60.08       0.7  2635   \n",
       "4               1       3    6.966         1           1.75       0.7  2635   \n",
       "5               1       3   16.668         2           1.41       0.7  2635   \n",
       "6               0       3   42.480         1           8.04       0.7    41   \n",
       "7               3       3   77.256         8           4.08       0.7  2635   \n",
       "8               3       3    3.159         1           0.25       0.7  2635   \n",
       "9               3       3   59.373         1           5.83       0.7  2635   \n",
       "\n",
       "   State  Country  Region  product category       Ship Mode  \n",
       "0      0      137       5                 2  Standard Class  \n",
       "1      0      137       5                 1  Standard Class  \n",
       "2    821      137       5                 1        Same Day  \n",
       "3    821      137       5                 0        Same Day  \n",
       "4    821      137       5                 1    Second Class  \n",
       "5    821      137       5                 1    Second Class  \n",
       "6      0      137       5                 1     First Class  \n",
       "7    821      137       5                 1  Standard Class  \n",
       "8    821      137       5                 1  Standard Class  \n",
       "9    821      137       5                 1  Standard Class  "
      ]
     },
     "execution_count": 59,
     "metadata": {},
     "output_type": "execute_result"
    }
   ],
   "source": [
    "df.head(10)"
   ]
  },
  {
   "cell_type": "code",
   "execution_count": 60,
   "id": "dce16603",
   "metadata": {},
   "outputs": [
    {
     "name": "stderr",
     "output_type": "stream",
     "text": [
      "/tmp/ipykernel_13295/23258324.py:1: FutureWarning: The default value of numeric_only in DataFrame.corr is deprecated. In a future version, it will default to False. Select only valid columns or specify the value of numeric_only to silence this warning.\n",
      "  correlation = df.corr() * 100\n"
     ]
    },
    {
     "data": {
      "text/plain": [
       "[Text(0.5, 1.0, 'Correlation matrix of order dataset')]"
      ]
     },
     "execution_count": 60,
     "metadata": {},
     "output_type": "execute_result"
    },
    {
     "data": {
      "image/png": "[encoded data removed]",
      "text/plain": [
       "<Figure size 1500x1000 with 2 Axes>"
      ]
     },
     "metadata": {},
     "output_type": "display_data"
    }
   ],
   "source": [
    "correlation = df.corr() * 100\n",
    "plt.figure(figsize=(15,10))\n",
    "heatmap = sns.heatmap(correlation, annot = True)  \n",
    "heatmap.set(title =\"Correlation matrix of order dataset\")"
   ]
  },
  {
   "cell_type": "code",
   "execution_count": 61,
   "id": "3272c1f9",
   "metadata": {},
   "outputs": [],
   "source": [
    "X = df.drop(['Ship Mode'], axis=1)\n",
    "y = df['Ship Mode'] "
   ]
  },
  {
   "cell_type": "code",
   "execution_count": 62,
   "id": "64fe0a91",
   "metadata": {},
   "outputs": [
    {
     "name": "stderr",
     "output_type": "stream",
     "text": [
      "/home/masoud533/anaconda3/lib/python3.8/site-packages/sklearn/metrics/cluster/_supervised.py:64: UserWarning: Clustering metrics expects discrete values but received continuous values for label, and multiclass values for target\n",
      "  warnings.warn(msg, UserWarning)\n",
      "/home/masoud533/anaconda3/lib/python3.8/site-packages/sklearn/metrics/cluster/_supervised.py:64: UserWarning: Clustering metrics expects discrete values but received continuous values for label, and multiclass values for target\n",
      "  warnings.warn(msg, UserWarning)\n",
      "/home/masoud533/anaconda3/lib/python3.8/site-packages/sklearn/metrics/cluster/_supervised.py:64: UserWarning: Clustering metrics expects discrete values but received continuous values for label, and multiclass values for target\n",
      "  warnings.warn(msg, UserWarning)\n"
     ]
    }
   ],
   "source": [
    "discrete_features_index=list(np.arange(1,10))\n",
    "feature_importance=mutual_info_classif(X=X,y=y,discrete_features=discrete_features_index, random_state=2233)\n",
    "feature_importance = pd.DataFrame(data=feature_importance,columns=['fi'])\n",
    "feature_importance.index=X.columns\n",
    "feature_importance.sort_values(by=['fi'] , ascending=False, inplace=True)"
   ]
  },
  {
   "cell_type": "code",
   "execution_count": 63,
   "id": "a610f54c",
   "metadata": {},
   "outputs": [
    {
     "data": {
      "text/html": [
       "<div>\n",
       "<style scoped>\n",
       "    .dataframe tbody tr th:only-of-type {\n",
       "        vertical-align: middle;\n",
       "    }\n",
       "\n",
       "    .dataframe tbody tr th {\n",
       "        vertical-align: top;\n",
       "    }\n",
       "\n",
       "    .dataframe thead th {\n",
       "        text-align: right;\n",
       "    }\n",
       "</style>\n",
       "<table border=\"1\" class=\"dataframe\">\n",
       "  <thead>\n",
       "    <tr style=\"text-align: right;\">\n",
       "      <th></th>\n",
       "      <th>fi</th>\n",
       "    </tr>\n",
       "  </thead>\n",
       "  <tbody>\n",
       "    <tr>\n",
       "      <th>Sales</th>\n",
       "      <td>0.550573</td>\n",
       "    </tr>\n",
       "    <tr>\n",
       "      <th>Shipping Cost</th>\n",
       "      <td>0.438250</td>\n",
       "    </tr>\n",
       "    <tr>\n",
       "      <th>City</th>\n",
       "      <td>0.229477</td>\n",
       "    </tr>\n",
       "    <tr>\n",
       "      <th>Order Priority</th>\n",
       "      <td>0.143793</td>\n",
       "    </tr>\n",
       "    <tr>\n",
       "      <th>State</th>\n",
       "      <td>0.079216</td>\n",
       "    </tr>\n",
       "    <tr>\n",
       "      <th>Country</th>\n",
       "      <td>0.011828</td>\n",
       "    </tr>\n",
       "    <tr>\n",
       "      <th>product category</th>\n",
       "      <td>0.001967</td>\n",
       "    </tr>\n",
       "    <tr>\n",
       "      <th>Discount</th>\n",
       "      <td>0.001667</td>\n",
       "    </tr>\n",
       "    <tr>\n",
       "      <th>Region</th>\n",
       "      <td>0.001444</td>\n",
       "    </tr>\n",
       "    <tr>\n",
       "      <th>Market</th>\n",
       "      <td>0.000454</td>\n",
       "    </tr>\n",
       "    <tr>\n",
       "      <th>Quantity</th>\n",
       "      <td>0.000445</td>\n",
       "    </tr>\n",
       "  </tbody>\n",
       "</table>\n",
       "</div>"
      ],
      "text/plain": [
       "                        fi\n",
       "Sales             0.550573\n",
       "Shipping Cost     0.438250\n",
       "City              0.229477\n",
       "Order Priority    0.143793\n",
       "State             0.079216\n",
       "Country           0.011828\n",
       "product category  0.001967\n",
       "Discount          0.001667\n",
       "Region            0.001444\n",
       "Market            0.000454\n",
       "Quantity          0.000445"
      ]
     },
     "execution_count": 63,
     "metadata": {},
     "output_type": "execute_result"
    }
   ],
   "source": [
    "feature_importance"
   ]
  },
  {
   "cell_type": "code",
   "execution_count": 64,
   "id": "60532a71",
   "metadata": {},
   "outputs": [
    {
     "data": {
      "text/html": [
       "<div>\n",
       "<style scoped>\n",
       "    .dataframe tbody tr th:only-of-type {\n",
       "        vertical-align: middle;\n",
       "    }\n",
       "\n",
       "    .dataframe tbody tr th {\n",
       "        vertical-align: top;\n",
       "    }\n",
       "\n",
       "    .dataframe thead th {\n",
       "        text-align: right;\n",
       "    }\n",
       "</style>\n",
       "<table border=\"1\" class=\"dataframe\">\n",
       "  <thead>\n",
       "    <tr style=\"text-align: right;\">\n",
       "      <th></th>\n",
       "      <th>Order Priority</th>\n",
       "      <th>Market</th>\n",
       "      <th>Sales</th>\n",
       "      <th>Quantity</th>\n",
       "      <th>Shipping Cost</th>\n",
       "      <th>Discount</th>\n",
       "      <th>City</th>\n",
       "      <th>State</th>\n",
       "      <th>Country</th>\n",
       "      <th>Region</th>\n",
       "      <th>product category</th>\n",
       "      <th>Ship Mode</th>\n",
       "    </tr>\n",
       "  </thead>\n",
       "  <tbody>\n",
       "    <tr>\n",
       "      <th>0</th>\n",
       "      <td>3</td>\n",
       "      <td>3</td>\n",
       "      <td>78.408</td>\n",
       "      <td>6</td>\n",
       "      <td>3.87</td>\n",
       "      <td>0.7</td>\n",
       "      <td>41</td>\n",
       "      <td>0</td>\n",
       "      <td>137</td>\n",
       "      <td>5</td>\n",
       "      <td>2</td>\n",
       "      <td>Standard Class</td>\n",
       "    </tr>\n",
       "    <tr>\n",
       "      <th>1</th>\n",
       "      <td>3</td>\n",
       "      <td>3</td>\n",
       "      <td>82.674</td>\n",
       "      <td>2</td>\n",
       "      <td>5.69</td>\n",
       "      <td>0.7</td>\n",
       "      <td>41</td>\n",
       "      <td>0</td>\n",
       "      <td>137</td>\n",
       "      <td>5</td>\n",
       "      <td>1</td>\n",
       "      <td>Standard Class</td>\n",
       "    </tr>\n",
       "    <tr>\n",
       "      <th>2</th>\n",
       "      <td>1</td>\n",
       "      <td>3</td>\n",
       "      <td>4.248</td>\n",
       "      <td>1</td>\n",
       "      <td>0.10</td>\n",
       "      <td>0.7</td>\n",
       "      <td>2635</td>\n",
       "      <td>821</td>\n",
       "      <td>137</td>\n",
       "      <td>5</td>\n",
       "      <td>1</td>\n",
       "      <td>Same Day</td>\n",
       "    </tr>\n",
       "    <tr>\n",
       "      <th>3</th>\n",
       "      <td>1</td>\n",
       "      <td>3</td>\n",
       "      <td>224.748</td>\n",
       "      <td>6</td>\n",
       "      <td>60.08</td>\n",
       "      <td>0.7</td>\n",
       "      <td>2635</td>\n",
       "      <td>821</td>\n",
       "      <td>137</td>\n",
       "      <td>5</td>\n",
       "      <td>0</td>\n",
       "      <td>Same Day</td>\n",
       "    </tr>\n",
       "    <tr>\n",
       "      <th>4</th>\n",
       "      <td>1</td>\n",
       "      <td>3</td>\n",
       "      <td>6.966</td>\n",
       "      <td>1</td>\n",
       "      <td>1.75</td>\n",
       "      <td>0.7</td>\n",
       "      <td>2635</td>\n",
       "      <td>821</td>\n",
       "      <td>137</td>\n",
       "      <td>5</td>\n",
       "      <td>1</td>\n",
       "      <td>Second Class</td>\n",
       "    </tr>\n",
       "  </tbody>\n",
       "</table>\n",
       "</div>"
      ],
      "text/plain": [
       "   Order Priority  Market    Sales  Quantity  Shipping Cost  Discount  City  \\\n",
       "0               3       3   78.408         6           3.87       0.7    41   \n",
       "1               3       3   82.674         2           5.69       0.7    41   \n",
       "2               1       3    4.248         1           0.10       0.7  2635   \n",
       "3               1       3  224.748         6          60.08       0.7  2635   \n",
       "4               1       3    6.966         1           1.75       0.7  2635   \n",
       "\n",
       "   State  Country  Region  product category       Ship Mode  \n",
       "0      0      137       5                 2  Standard Class  \n",
       "1      0      137       5                 1  Standard Class  \n",
       "2    821      137       5                 1        Same Day  \n",
       "3    821      137       5                 0        Same Day  \n",
       "4    821      137       5                 1    Second Class  "
      ]
     },
     "execution_count": 64,
     "metadata": {},
     "output_type": "execute_result"
    }
   ],
   "source": [
    "df.head()"
   ]
  },
  {
   "cell_type": "code",
   "execution_count": 65,
   "id": "bb9c1479",
   "metadata": {},
   "outputs": [],
   "source": [
    "df.to_csv('dataFrame.csv')"
   ]
  }
 ],
 "metadata": {
  "kernelspec": {
   "display_name": "Python 3 (ipykernel)",
   "language": "python",
   "name": "python3"
  },
  "language_info": {
   "codemirror_mode": {
    "name": "ipython",
    "version": 3
   },
   "file_extension": ".py",
   "mimetype": "text/x-python",
   "name": "python",
   "nbconvert_exporter": "python",
   "pygments_lexer": "ipython3",
   "version": "3.8.5"
  }
 },
 "nbformat": 4,
 "nbformat_minor": 5
}
