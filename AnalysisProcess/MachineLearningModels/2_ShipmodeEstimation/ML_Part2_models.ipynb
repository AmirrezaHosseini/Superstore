{
 "cells": [
  {
   "cell_type": "markdown",
   "id": "5b96e5d5",
   "metadata": {},
   "source": [
    "# Import Required Libraries"
   ]
  },
  {
   "cell_type": "code",
   "execution_count": 168,
   "id": "1ac17c9b",
   "metadata": {},
   "outputs": [],
   "source": [
    "import pandas as pd\n",
    "import numpy as np\n",
    "from sklearn.preprocessing import LabelEncoder\n",
    "from sklearn.preprocessing import OneHotEncoder\n",
    "from sklearn.preprocessing import StandardScaler\n",
    "from sklearn.decomposition import PCA\n",
    "from sklearn.model_selection import train_test_split\n",
    "from sklearn.multioutput import MultiOutputClassifier\n",
    "from sklearn.metrics import accuracy_score\n",
    "import xgboost as xgb\n",
    "from sklearn.ensemble import RandomForestClassifier"
   ]
  },
  {
   "cell_type": "markdown",
   "id": "8291f9de",
   "metadata": {},
   "source": [
    "# Read DATA"
   ]
  },
  {
   "cell_type": "code",
   "execution_count": 169,
   "id": "4c9c1dd5",
   "metadata": {},
   "outputs": [],
   "source": [
    "df = pd.read_csv('dataFrame.csv')"
   ]
  },
  {
   "cell_type": "code",
   "execution_count": 170,
   "id": "3da1cf3d",
   "metadata": {},
   "outputs": [
    {
     "data": {
      "text/html": [
       "<div>\n",
       "<style scoped>\n",
       "    .dataframe tbody tr th:only-of-type {\n",
       "        vertical-align: middle;\n",
       "    }\n",
       "\n",
       "    .dataframe tbody tr th {\n",
       "        vertical-align: top;\n",
       "    }\n",
       "\n",
       "    .dataframe thead th {\n",
       "        text-align: right;\n",
       "    }\n",
       "</style>\n",
       "<table border=\"1\" class=\"dataframe\">\n",
       "  <thead>\n",
       "    <tr style=\"text-align: right;\">\n",
       "      <th></th>\n",
       "      <th>Unnamed: 0</th>\n",
       "      <th>Order Priority</th>\n",
       "      <th>Market</th>\n",
       "      <th>Sales</th>\n",
       "      <th>Quantity</th>\n",
       "      <th>Shipping Cost</th>\n",
       "      <th>Discount</th>\n",
       "      <th>City</th>\n",
       "      <th>State</th>\n",
       "      <th>Country</th>\n",
       "      <th>Region</th>\n",
       "      <th>product category</th>\n",
       "      <th>Ship Mode</th>\n",
       "    </tr>\n",
       "  </thead>\n",
       "  <tbody>\n",
       "    <tr>\n",
       "      <th>0</th>\n",
       "      <td>0</td>\n",
       "      <td>3</td>\n",
       "      <td>3</td>\n",
       "      <td>78.408</td>\n",
       "      <td>6</td>\n",
       "      <td>3.87</td>\n",
       "      <td>0.7</td>\n",
       "      <td>41</td>\n",
       "      <td>0</td>\n",
       "      <td>137</td>\n",
       "      <td>5</td>\n",
       "      <td>2</td>\n",
       "      <td>Standard Class</td>\n",
       "    </tr>\n",
       "    <tr>\n",
       "      <th>1</th>\n",
       "      <td>1</td>\n",
       "      <td>3</td>\n",
       "      <td>3</td>\n",
       "      <td>82.674</td>\n",
       "      <td>2</td>\n",
       "      <td>5.69</td>\n",
       "      <td>0.7</td>\n",
       "      <td>41</td>\n",
       "      <td>0</td>\n",
       "      <td>137</td>\n",
       "      <td>5</td>\n",
       "      <td>1</td>\n",
       "      <td>Standard Class</td>\n",
       "    </tr>\n",
       "    <tr>\n",
       "      <th>2</th>\n",
       "      <td>2</td>\n",
       "      <td>1</td>\n",
       "      <td>3</td>\n",
       "      <td>4.248</td>\n",
       "      <td>1</td>\n",
       "      <td>0.10</td>\n",
       "      <td>0.7</td>\n",
       "      <td>2635</td>\n",
       "      <td>821</td>\n",
       "      <td>137</td>\n",
       "      <td>5</td>\n",
       "      <td>1</td>\n",
       "      <td>Same Day</td>\n",
       "    </tr>\n",
       "    <tr>\n",
       "      <th>3</th>\n",
       "      <td>3</td>\n",
       "      <td>1</td>\n",
       "      <td>3</td>\n",
       "      <td>224.748</td>\n",
       "      <td>6</td>\n",
       "      <td>60.08</td>\n",
       "      <td>0.7</td>\n",
       "      <td>2635</td>\n",
       "      <td>821</td>\n",
       "      <td>137</td>\n",
       "      <td>5</td>\n",
       "      <td>0</td>\n",
       "      <td>Same Day</td>\n",
       "    </tr>\n",
       "    <tr>\n",
       "      <th>4</th>\n",
       "      <td>4</td>\n",
       "      <td>1</td>\n",
       "      <td>3</td>\n",
       "      <td>6.966</td>\n",
       "      <td>1</td>\n",
       "      <td>1.75</td>\n",
       "      <td>0.7</td>\n",
       "      <td>2635</td>\n",
       "      <td>821</td>\n",
       "      <td>137</td>\n",
       "      <td>5</td>\n",
       "      <td>1</td>\n",
       "      <td>Second Class</td>\n",
       "    </tr>\n",
       "  </tbody>\n",
       "</table>\n",
       "</div>"
      ],
      "text/plain": [
       "   Unnamed: 0  Order Priority  Market    Sales  Quantity  Shipping Cost  \\\n",
       "0           0               3       3   78.408         6           3.87   \n",
       "1           1               3       3   82.674         2           5.69   \n",
       "2           2               1       3    4.248         1           0.10   \n",
       "3           3               1       3  224.748         6          60.08   \n",
       "4           4               1       3    6.966         1           1.75   \n",
       "\n",
       "   Discount  City  State  Country  Region  product category       Ship Mode  \n",
       "0       0.7    41      0      137       5                 2  Standard Class  \n",
       "1       0.7    41      0      137       5                 1  Standard Class  \n",
       "2       0.7  2635    821      137       5                 1        Same Day  \n",
       "3       0.7  2635    821      137       5                 0        Same Day  \n",
       "4       0.7  2635    821      137       5                 1    Second Class  "
      ]
     },
     "execution_count": 170,
     "metadata": {},
     "output_type": "execute_result"
    }
   ],
   "source": [
    "df.head()"
   ]
  },
  {
   "cell_type": "markdown",
   "id": "e6080ec5",
   "metadata": {},
   "source": [
    "# Final EDA\n",
    "1- OneHotEncode\n",
    "2- train and test split\n",
    "3- Standard scale"
   ]
  },
  {
   "cell_type": "code",
   "execution_count": 171,
   "id": "ee0eedcc",
   "metadata": {},
   "outputs": [
    {
     "data": {
      "text/plain": [
       "array([[0., 0., 0., 1.],\n",
       "       [0., 0., 0., 1.],\n",
       "       [0., 1., 0., 0.],\n",
       "       ...,\n",
       "       [0., 0., 0., 1.],\n",
       "       [0., 0., 0., 1.],\n",
       "       [0., 0., 1., 0.]])"
      ]
     },
     "execution_count": 171,
     "metadata": {},
     "output_type": "execute_result"
    }
   ],
   "source": [
    "OneHot = OneHotEncoder()\n",
    "y = OneHot.fit_transform(df[['Ship Mode']]).toarray()\n",
    "y"
   ]
  },
  {
   "cell_type": "code",
   "execution_count": 172,
   "id": "e1b62fb5",
   "metadata": {},
   "outputs": [
    {
     "data": {
      "text/html": [
       "<div>\n",
       "<style scoped>\n",
       "    .dataframe tbody tr th:only-of-type {\n",
       "        vertical-align: middle;\n",
       "    }\n",
       "\n",
       "    .dataframe tbody tr th {\n",
       "        vertical-align: top;\n",
       "    }\n",
       "\n",
       "    .dataframe thead th {\n",
       "        text-align: right;\n",
       "    }\n",
       "</style>\n",
       "<table border=\"1\" class=\"dataframe\">\n",
       "  <thead>\n",
       "    <tr style=\"text-align: right;\">\n",
       "      <th></th>\n",
       "      <th>Order Priority</th>\n",
       "      <th>Market</th>\n",
       "      <th>Sales</th>\n",
       "      <th>Quantity</th>\n",
       "      <th>Discount</th>\n",
       "      <th>Region</th>\n",
       "      <th>product category</th>\n",
       "    </tr>\n",
       "  </thead>\n",
       "  <tbody>\n",
       "    <tr>\n",
       "      <th>0</th>\n",
       "      <td>3</td>\n",
       "      <td>3</td>\n",
       "      <td>78.408</td>\n",
       "      <td>6</td>\n",
       "      <td>0.7</td>\n",
       "      <td>5</td>\n",
       "      <td>2</td>\n",
       "    </tr>\n",
       "    <tr>\n",
       "      <th>1</th>\n",
       "      <td>3</td>\n",
       "      <td>3</td>\n",
       "      <td>82.674</td>\n",
       "      <td>2</td>\n",
       "      <td>0.7</td>\n",
       "      <td>5</td>\n",
       "      <td>1</td>\n",
       "    </tr>\n",
       "    <tr>\n",
       "      <th>2</th>\n",
       "      <td>1</td>\n",
       "      <td>3</td>\n",
       "      <td>4.248</td>\n",
       "      <td>1</td>\n",
       "      <td>0.7</td>\n",
       "      <td>5</td>\n",
       "      <td>1</td>\n",
       "    </tr>\n",
       "    <tr>\n",
       "      <th>3</th>\n",
       "      <td>1</td>\n",
       "      <td>3</td>\n",
       "      <td>224.748</td>\n",
       "      <td>6</td>\n",
       "      <td>0.7</td>\n",
       "      <td>5</td>\n",
       "      <td>0</td>\n",
       "    </tr>\n",
       "    <tr>\n",
       "      <th>4</th>\n",
       "      <td>1</td>\n",
       "      <td>3</td>\n",
       "      <td>6.966</td>\n",
       "      <td>1</td>\n",
       "      <td>0.7</td>\n",
       "      <td>5</td>\n",
       "      <td>1</td>\n",
       "    </tr>\n",
       "    <tr>\n",
       "      <th>...</th>\n",
       "      <td>...</td>\n",
       "      <td>...</td>\n",
       "      <td>...</td>\n",
       "      <td>...</td>\n",
       "      <td>...</td>\n",
       "      <td>...</td>\n",
       "      <td>...</td>\n",
       "    </tr>\n",
       "    <tr>\n",
       "      <th>49665</th>\n",
       "      <td>3</td>\n",
       "      <td>1</td>\n",
       "      <td>4.077</td>\n",
       "      <td>1</td>\n",
       "      <td>0.7</td>\n",
       "      <td>0</td>\n",
       "      <td>1</td>\n",
       "    </tr>\n",
       "    <tr>\n",
       "      <th>49666</th>\n",
       "      <td>3</td>\n",
       "      <td>1</td>\n",
       "      <td>7.164</td>\n",
       "      <td>2</td>\n",
       "      <td>0.7</td>\n",
       "      <td>0</td>\n",
       "      <td>1</td>\n",
       "    </tr>\n",
       "    <tr>\n",
       "      <th>49667</th>\n",
       "      <td>3</td>\n",
       "      <td>1</td>\n",
       "      <td>71.640</td>\n",
       "      <td>2</td>\n",
       "      <td>0.7</td>\n",
       "      <td>0</td>\n",
       "      <td>2</td>\n",
       "    </tr>\n",
       "    <tr>\n",
       "      <th>49668</th>\n",
       "      <td>3</td>\n",
       "      <td>1</td>\n",
       "      <td>1.161</td>\n",
       "      <td>1</td>\n",
       "      <td>0.7</td>\n",
       "      <td>0</td>\n",
       "      <td>1</td>\n",
       "    </tr>\n",
       "    <tr>\n",
       "      <th>49669</th>\n",
       "      <td>1</td>\n",
       "      <td>1</td>\n",
       "      <td>4.104</td>\n",
       "      <td>1</td>\n",
       "      <td>0.7</td>\n",
       "      <td>0</td>\n",
       "      <td>1</td>\n",
       "    </tr>\n",
       "  </tbody>\n",
       "</table>\n",
       "<p>49670 rows × 7 columns</p>\n",
       "</div>"
      ],
      "text/plain": [
       "       Order Priority  Market    Sales  Quantity  Discount  Region  \\\n",
       "0                   3       3   78.408         6       0.7       5   \n",
       "1                   3       3   82.674         2       0.7       5   \n",
       "2                   1       3    4.248         1       0.7       5   \n",
       "3                   1       3  224.748         6       0.7       5   \n",
       "4                   1       3    6.966         1       0.7       5   \n",
       "...               ...     ...      ...       ...       ...     ...   \n",
       "49665               3       1    4.077         1       0.7       0   \n",
       "49666               3       1    7.164         2       0.7       0   \n",
       "49667               3       1   71.640         2       0.7       0   \n",
       "49668               3       1    1.161         1       0.7       0   \n",
       "49669               1       1    4.104         1       0.7       0   \n",
       "\n",
       "       product category  \n",
       "0                     2  \n",
       "1                     1  \n",
       "2                     1  \n",
       "3                     0  \n",
       "4                     1  \n",
       "...                 ...  \n",
       "49665                 1  \n",
       "49666                 1  \n",
       "49667                 2  \n",
       "49668                 1  \n",
       "49669                 1  \n",
       "\n",
       "[49670 rows x 7 columns]"
      ]
     },
     "execution_count": 172,
     "metadata": {},
     "output_type": "execute_result"
    }
   ],
   "source": [
    "X1 = df.drop(['Unnamed: 0', 'City', 'Shipping Cost', 'State', 'Country', 'Ship Mode'], axis=1)\n",
    "X1"
   ]
  },
  {
   "cell_type": "code",
   "execution_count": 173,
   "id": "fc50d8b0",
   "metadata": {},
   "outputs": [],
   "source": [
    "X_train, X_test, y_train, y_test = train_test_split(X1, y, test_size=0.2, random_state=1122)"
   ]
  },
  {
   "cell_type": "code",
   "execution_count": 174,
   "id": "0065c117",
   "metadata": {},
   "outputs": [],
   "source": [
    "sc = StandardScaler()\n",
    "sc.fit(X_train)\n",
    "X_train=sc.transform(X_train)\n",
    "X_test=sc.transform(X_test)"
   ]
  },
  {
   "cell_type": "code",
   "execution_count": 175,
   "id": "106e59fb",
   "metadata": {},
   "outputs": [
    {
     "data": {
      "text/plain": [
       "array([[-0.11040485,  0.73765629, -0.38902875, ..., -0.67447564,\n",
       "        -0.86658338, -0.00345552],\n",
       "       [-1.03652839, -1.48601233, -0.26197373, ..., -0.67447564,\n",
       "         1.35781734, -0.00345552],\n",
       "       [ 0.81571868,  0.73765629, -0.43994794, ...,  1.21247502,\n",
       "        -0.86658338, -0.00345552],\n",
       "       ...,\n",
       "       [ 0.81571868, -1.48601233, -0.08540854, ...,  3.09942568,\n",
       "         0.52366707, -1.60006781],\n",
       "       [-1.03652839, -1.48601233,  0.1223333 , ...,  0.50486852,\n",
       "         1.35781734, -1.60006781],\n",
       "       [ 0.81571868,  1.18239001, -0.43907337, ...,  0.26899969,\n",
       "         1.07976725, -0.00345552]])"
      ]
     },
     "execution_count": 175,
     "metadata": {},
     "output_type": "execute_result"
    }
   ],
   "source": [
    "X_train"
   ]
  },
  {
   "cell_type": "markdown",
   "id": "a62fd2da",
   "metadata": {},
   "source": [
    "# train XGboost"
   ]
  },
  {
   "cell_type": "code",
   "execution_count": 176,
   "id": "d500db1a",
   "metadata": {},
   "outputs": [
    {
     "name": "stderr",
     "output_type": "stream",
     "text": [
      "/home/masoud533/anaconda3/lib/python3.8/site-packages/xgboost/sklearn.py:888: UserWarning: The use of label encoder in XGBClassifier is deprecated and will be removed in a future release. To remove this warning, do the following: 1) Pass option use_label_encoder=False when constructing XGBClassifier object; and 2) Encode your labels (y) as integers starting with 0, i.e. 0, 1, 2, ..., [num_class - 1].\n",
      "  warnings.warn(label_encoder_deprecation_msg, UserWarning)\n"
     ]
    },
    {
     "name": "stdout",
     "output_type": "stream",
     "text": [
      "[04:07:35] WARNING: ../src/learner.cc:1061: Starting in XGBoost 1.3.0, the default evaluation metric used with the objective 'binary:logistic' was changed from 'error' to 'logloss'. Explicitly set eval_metric if you'd like to restore the old behavior.\n"
     ]
    },
    {
     "name": "stderr",
     "output_type": "stream",
     "text": [
      "/home/masoud533/anaconda3/lib/python3.8/site-packages/xgboost/sklearn.py:888: UserWarning: The use of label encoder in XGBClassifier is deprecated and will be removed in a future release. To remove this warning, do the following: 1) Pass option use_label_encoder=False when constructing XGBClassifier object; and 2) Encode your labels (y) as integers starting with 0, i.e. 0, 1, 2, ..., [num_class - 1].\n",
      "  warnings.warn(label_encoder_deprecation_msg, UserWarning)\n"
     ]
    },
    {
     "name": "stdout",
     "output_type": "stream",
     "text": [
      "[04:07:36] WARNING: ../src/learner.cc:1061: Starting in XGBoost 1.3.0, the default evaluation metric used with the objective 'binary:logistic' was changed from 'error' to 'logloss'. Explicitly set eval_metric if you'd like to restore the old behavior.\n"
     ]
    },
    {
     "name": "stderr",
     "output_type": "stream",
     "text": [
      "/home/masoud533/anaconda3/lib/python3.8/site-packages/xgboost/sklearn.py:888: UserWarning: The use of label encoder in XGBClassifier is deprecated and will be removed in a future release. To remove this warning, do the following: 1) Pass option use_label_encoder=False when constructing XGBClassifier object; and 2) Encode your labels (y) as integers starting with 0, i.e. 0, 1, 2, ..., [num_class - 1].\n",
      "  warnings.warn(label_encoder_deprecation_msg, UserWarning)\n"
     ]
    },
    {
     "name": "stdout",
     "output_type": "stream",
     "text": [
      "[04:07:37] WARNING: ../src/learner.cc:1061: Starting in XGBoost 1.3.0, the default evaluation metric used with the objective 'binary:logistic' was changed from 'error' to 'logloss'. Explicitly set eval_metric if you'd like to restore the old behavior.\n"
     ]
    },
    {
     "name": "stderr",
     "output_type": "stream",
     "text": [
      "/home/masoud533/anaconda3/lib/python3.8/site-packages/xgboost/sklearn.py:888: UserWarning: The use of label encoder in XGBClassifier is deprecated and will be removed in a future release. To remove this warning, do the following: 1) Pass option use_label_encoder=False when constructing XGBClassifier object; and 2) Encode your labels (y) as integers starting with 0, i.e. 0, 1, 2, ..., [num_class - 1].\n",
      "  warnings.warn(label_encoder_deprecation_msg, UserWarning)\n"
     ]
    },
    {
     "name": "stdout",
     "output_type": "stream",
     "text": [
      "[04:07:38] WARNING: ../src/learner.cc:1061: Starting in XGBoost 1.3.0, the default evaluation metric used with the objective 'binary:logistic' was changed from 'error' to 'logloss'. Explicitly set eval_metric if you'd like to restore the old behavior.\n",
      "Accuracy on test data: 50.5%\n",
      "Accuracy on train data: 55.4%\n",
      "F1 score on test data: 50.5%\n",
      "F1 score on train data: 55.4%\n"
     ]
    }
   ],
   "source": [
    "xgb_estimator = xgb.XGBClassifier()\n",
    "multilabel_model = MultiOutputClassifier(xgb_estimator)\n",
    "multilabel_model.fit(X_train, y_train)\n",
    "\n",
    "print('Accuracy on test data: {:.1f}%'.format(accuracy_score(y_test, multilabel_model.predict(X_test))*100))\n",
    "print('Accuracy on train data: {:.1f}%'.format(accuracy_score(y_train, multilabel_model.predict(X_train))*100))\n",
    "\n",
    "print('F1 score on test data: {:.1f}%'.format(accuracy_score(y_test, multilabel_model.predict(X_test))*100))\n",
    "print('F1 score on train data: {:.1f}%'.format(accuracy_score(y_train, multilabel_model.predict(X_train))*100))"
   ]
  },
  {
   "cell_type": "code",
   "execution_count": 177,
   "id": "31bd96f0",
   "metadata": {},
   "outputs": [
    {
     "data": {
      "text/html": [
       "<div>\n",
       "<style scoped>\n",
       "    .dataframe tbody tr th:only-of-type {\n",
       "        vertical-align: middle;\n",
       "    }\n",
       "\n",
       "    .dataframe tbody tr th {\n",
       "        vertical-align: top;\n",
       "    }\n",
       "\n",
       "    .dataframe thead th {\n",
       "        text-align: right;\n",
       "    }\n",
       "</style>\n",
       "<table border=\"1\" class=\"dataframe\">\n",
       "  <thead>\n",
       "    <tr style=\"text-align: right;\">\n",
       "      <th></th>\n",
       "      <th>Order Priority</th>\n",
       "      <th>Market</th>\n",
       "      <th>Sales</th>\n",
       "      <th>Quantity</th>\n",
       "      <th>Shipping Cost</th>\n",
       "      <th>Discount</th>\n",
       "      <th>City</th>\n",
       "      <th>State</th>\n",
       "      <th>Country</th>\n",
       "      <th>Region</th>\n",
       "      <th>product category</th>\n",
       "    </tr>\n",
       "  </thead>\n",
       "  <tbody>\n",
       "    <tr>\n",
       "      <th>0</th>\n",
       "      <td>3</td>\n",
       "      <td>3</td>\n",
       "      <td>78.408</td>\n",
       "      <td>6</td>\n",
       "      <td>3.87</td>\n",
       "      <td>0.7</td>\n",
       "      <td>41</td>\n",
       "      <td>0</td>\n",
       "      <td>137</td>\n",
       "      <td>5</td>\n",
       "      <td>2</td>\n",
       "    </tr>\n",
       "    <tr>\n",
       "      <th>1</th>\n",
       "      <td>3</td>\n",
       "      <td>3</td>\n",
       "      <td>82.674</td>\n",
       "      <td>2</td>\n",
       "      <td>5.69</td>\n",
       "      <td>0.7</td>\n",
       "      <td>41</td>\n",
       "      <td>0</td>\n",
       "      <td>137</td>\n",
       "      <td>5</td>\n",
       "      <td>1</td>\n",
       "    </tr>\n",
       "    <tr>\n",
       "      <th>2</th>\n",
       "      <td>1</td>\n",
       "      <td>3</td>\n",
       "      <td>4.248</td>\n",
       "      <td>1</td>\n",
       "      <td>0.10</td>\n",
       "      <td>0.7</td>\n",
       "      <td>2635</td>\n",
       "      <td>821</td>\n",
       "      <td>137</td>\n",
       "      <td>5</td>\n",
       "      <td>1</td>\n",
       "    </tr>\n",
       "    <tr>\n",
       "      <th>3</th>\n",
       "      <td>1</td>\n",
       "      <td>3</td>\n",
       "      <td>224.748</td>\n",
       "      <td>6</td>\n",
       "      <td>60.08</td>\n",
       "      <td>0.7</td>\n",
       "      <td>2635</td>\n",
       "      <td>821</td>\n",
       "      <td>137</td>\n",
       "      <td>5</td>\n",
       "      <td>0</td>\n",
       "    </tr>\n",
       "    <tr>\n",
       "      <th>4</th>\n",
       "      <td>1</td>\n",
       "      <td>3</td>\n",
       "      <td>6.966</td>\n",
       "      <td>1</td>\n",
       "      <td>1.75</td>\n",
       "      <td>0.7</td>\n",
       "      <td>2635</td>\n",
       "      <td>821</td>\n",
       "      <td>137</td>\n",
       "      <td>5</td>\n",
       "      <td>1</td>\n",
       "    </tr>\n",
       "    <tr>\n",
       "      <th>...</th>\n",
       "      <td>...</td>\n",
       "      <td>...</td>\n",
       "      <td>...</td>\n",
       "      <td>...</td>\n",
       "      <td>...</td>\n",
       "      <td>...</td>\n",
       "      <td>...</td>\n",
       "      <td>...</td>\n",
       "      <td>...</td>\n",
       "      <td>...</td>\n",
       "      <td>...</td>\n",
       "    </tr>\n",
       "    <tr>\n",
       "      <th>49665</th>\n",
       "      <td>3</td>\n",
       "      <td>1</td>\n",
       "      <td>4.077</td>\n",
       "      <td>1</td>\n",
       "      <td>0.09</td>\n",
       "      <td>0.7</td>\n",
       "      <td>517</td>\n",
       "      <td>178</td>\n",
       "      <td>146</td>\n",
       "      <td>0</td>\n",
       "      <td>1</td>\n",
       "    </tr>\n",
       "    <tr>\n",
       "      <th>49666</th>\n",
       "      <td>3</td>\n",
       "      <td>1</td>\n",
       "      <td>7.164</td>\n",
       "      <td>2</td>\n",
       "      <td>0.35</td>\n",
       "      <td>0.7</td>\n",
       "      <td>1310</td>\n",
       "      <td>394</td>\n",
       "      <td>146</td>\n",
       "      <td>0</td>\n",
       "      <td>1</td>\n",
       "    </tr>\n",
       "    <tr>\n",
       "      <th>49667</th>\n",
       "      <td>3</td>\n",
       "      <td>1</td>\n",
       "      <td>71.640</td>\n",
       "      <td>2</td>\n",
       "      <td>4.05</td>\n",
       "      <td>0.7</td>\n",
       "      <td>517</td>\n",
       "      <td>178</td>\n",
       "      <td>146</td>\n",
       "      <td>0</td>\n",
       "      <td>2</td>\n",
       "    </tr>\n",
       "    <tr>\n",
       "      <th>49668</th>\n",
       "      <td>3</td>\n",
       "      <td>1</td>\n",
       "      <td>1.161</td>\n",
       "      <td>1</td>\n",
       "      <td>0.07</td>\n",
       "      <td>0.7</td>\n",
       "      <td>517</td>\n",
       "      <td>178</td>\n",
       "      <td>146</td>\n",
       "      <td>0</td>\n",
       "      <td>1</td>\n",
       "    </tr>\n",
       "    <tr>\n",
       "      <th>49669</th>\n",
       "      <td>1</td>\n",
       "      <td>1</td>\n",
       "      <td>4.104</td>\n",
       "      <td>1</td>\n",
       "      <td>0.80</td>\n",
       "      <td>0.7</td>\n",
       "      <td>2196</td>\n",
       "      <td>600</td>\n",
       "      <td>146</td>\n",
       "      <td>0</td>\n",
       "      <td>1</td>\n",
       "    </tr>\n",
       "  </tbody>\n",
       "</table>\n",
       "<p>49670 rows × 11 columns</p>\n",
       "</div>"
      ],
      "text/plain": [
       "       Order Priority  Market    Sales  Quantity  Shipping Cost  Discount  \\\n",
       "0                   3       3   78.408         6           3.87       0.7   \n",
       "1                   3       3   82.674         2           5.69       0.7   \n",
       "2                   1       3    4.248         1           0.10       0.7   \n",
       "3                   1       3  224.748         6          60.08       0.7   \n",
       "4                   1       3    6.966         1           1.75       0.7   \n",
       "...               ...     ...      ...       ...            ...       ...   \n",
       "49665               3       1    4.077         1           0.09       0.7   \n",
       "49666               3       1    7.164         2           0.35       0.7   \n",
       "49667               3       1   71.640         2           4.05       0.7   \n",
       "49668               3       1    1.161         1           0.07       0.7   \n",
       "49669               1       1    4.104         1           0.80       0.7   \n",
       "\n",
       "       City  State  Country  Region  product category  \n",
       "0        41      0      137       5                 2  \n",
       "1        41      0      137       5                 1  \n",
       "2      2635    821      137       5                 1  \n",
       "3      2635    821      137       5                 0  \n",
       "4      2635    821      137       5                 1  \n",
       "...     ...    ...      ...     ...               ...  \n",
       "49665   517    178      146       0                 1  \n",
       "49666  1310    394      146       0                 1  \n",
       "49667   517    178      146       0                 2  \n",
       "49668   517    178      146       0                 1  \n",
       "49669  2196    600      146       0                 1  \n",
       "\n",
       "[49670 rows x 11 columns]"
      ]
     },
     "execution_count": 177,
     "metadata": {},
     "output_type": "execute_result"
    }
   ],
   "source": [
    "X2 = df.drop(['Unnamed: 0', 'Ship Mode'], axis=1)\n",
    "X2"
   ]
  },
  {
   "cell_type": "code",
   "execution_count": 178,
   "id": "a3f7bcc6",
   "metadata": {},
   "outputs": [],
   "source": [
    "X_train, X_test, y_train, y_test = train_test_split(X2, y, test_size=0.2, random_state=1122)"
   ]
  },
  {
   "cell_type": "code",
   "execution_count": 179,
   "id": "47e8a639",
   "metadata": {},
   "outputs": [],
   "source": [
    "sc = StandardScaler()\n",
    "sc.fit(X_train)\n",
    "X_train=sc.transform(X_train)\n",
    "X_test=sc.transform(X_test)"
   ]
  },
  {
   "cell_type": "code",
   "execution_count": 180,
   "id": "12890ebd",
   "metadata": {},
   "outputs": [
    {
     "name": "stderr",
     "output_type": "stream",
     "text": [
      "/home/masoud533/anaconda3/lib/python3.8/site-packages/xgboost/sklearn.py:888: UserWarning: The use of label encoder in XGBClassifier is deprecated and will be removed in a future release. To remove this warning, do the following: 1) Pass option use_label_encoder=False when constructing XGBClassifier object; and 2) Encode your labels (y) as integers starting with 0, i.e. 0, 1, 2, ..., [num_class - 1].\n",
      "  warnings.warn(label_encoder_deprecation_msg, UserWarning)\n"
     ]
    },
    {
     "name": "stdout",
     "output_type": "stream",
     "text": [
      "[04:07:46] WARNING: ../src/learner.cc:1061: Starting in XGBoost 1.3.0, the default evaluation metric used with the objective 'binary:logistic' was changed from 'error' to 'logloss'. Explicitly set eval_metric if you'd like to restore the old behavior.\n"
     ]
    },
    {
     "name": "stderr",
     "output_type": "stream",
     "text": [
      "/home/masoud533/anaconda3/lib/python3.8/site-packages/xgboost/sklearn.py:888: UserWarning: The use of label encoder in XGBClassifier is deprecated and will be removed in a future release. To remove this warning, do the following: 1) Pass option use_label_encoder=False when constructing XGBClassifier object; and 2) Encode your labels (y) as integers starting with 0, i.e. 0, 1, 2, ..., [num_class - 1].\n",
      "  warnings.warn(label_encoder_deprecation_msg, UserWarning)\n"
     ]
    },
    {
     "name": "stdout",
     "output_type": "stream",
     "text": [
      "[04:07:47] WARNING: ../src/learner.cc:1061: Starting in XGBoost 1.3.0, the default evaluation metric used with the objective 'binary:logistic' was changed from 'error' to 'logloss'. Explicitly set eval_metric if you'd like to restore the old behavior.\n"
     ]
    },
    {
     "name": "stderr",
     "output_type": "stream",
     "text": [
      "/home/masoud533/anaconda3/lib/python3.8/site-packages/xgboost/sklearn.py:888: UserWarning: The use of label encoder in XGBClassifier is deprecated and will be removed in a future release. To remove this warning, do the following: 1) Pass option use_label_encoder=False when constructing XGBClassifier object; and 2) Encode your labels (y) as integers starting with 0, i.e. 0, 1, 2, ..., [num_class - 1].\n",
      "  warnings.warn(label_encoder_deprecation_msg, UserWarning)\n"
     ]
    },
    {
     "name": "stdout",
     "output_type": "stream",
     "text": [
      "[04:07:48] WARNING: ../src/learner.cc:1061: Starting in XGBoost 1.3.0, the default evaluation metric used with the objective 'binary:logistic' was changed from 'error' to 'logloss'. Explicitly set eval_metric if you'd like to restore the old behavior.\n"
     ]
    },
    {
     "name": "stderr",
     "output_type": "stream",
     "text": [
      "/home/masoud533/anaconda3/lib/python3.8/site-packages/xgboost/sklearn.py:888: UserWarning: The use of label encoder in XGBClassifier is deprecated and will be removed in a future release. To remove this warning, do the following: 1) Pass option use_label_encoder=False when constructing XGBClassifier object; and 2) Encode your labels (y) as integers starting with 0, i.e. 0, 1, 2, ..., [num_class - 1].\n",
      "  warnings.warn(label_encoder_deprecation_msg, UserWarning)\n"
     ]
    },
    {
     "name": "stdout",
     "output_type": "stream",
     "text": [
      "[04:07:49] WARNING: ../src/learner.cc:1061: Starting in XGBoost 1.3.0, the default evaluation metric used with the objective 'binary:logistic' was changed from 'error' to 'logloss'. Explicitly set eval_metric if you'd like to restore the old behavior.\n",
      "Accuracy on test data: 59.2%\n",
      "Accuracy on train data: 67.5%\n",
      "F1 score on test data: 59.2%\n",
      "F1 score on train data: 67.5%\n"
     ]
    }
   ],
   "source": [
    "xgb_estimator = xgb.XGBClassifier()\n",
    "multilabel_model = MultiOutputClassifier(xgb_estimator)\n",
    "multilabel_model.fit(X_train, y_train)\n",
    "\n",
    "print('Accuracy on test data: {:.1f}%'.format(accuracy_score(y_test, multilabel_model.predict(X_test))*100))\n",
    "print('Accuracy on train data: {:.1f}%'.format(accuracy_score(y_train, multilabel_model.predict(X_train))*100))\n",
    "\n",
    "print('F1 score on test data: {:.1f}%'.format(accuracy_score(y_test, multilabel_model.predict(X_test))*100))\n",
    "print('F1 score on train data: {:.1f}%'.format(accuracy_score(y_train, multilabel_model.predict(X_train))*100))"
   ]
  },
  {
   "cell_type": "code",
   "execution_count": 181,
   "id": "15ed14e0",
   "metadata": {},
   "outputs": [],
   "source": [
    "X_train, X_test, y_train, y_test = train_test_split(X2, y, test_size=0.2, random_state=1122)"
   ]
  },
  {
   "cell_type": "code",
   "execution_count": 182,
   "id": "77abe80e",
   "metadata": {},
   "outputs": [],
   "source": [
    "sc = StandardScaler()\n",
    "sc.fit(X_train)\n",
    "X_train=sc.transform(X_train)\n",
    "X_test=sc.transform(X_test)"
   ]
  },
  {
   "cell_type": "code",
   "execution_count": 183,
   "id": "700f8c4a",
   "metadata": {},
   "outputs": [
    {
     "name": "stdout",
     "output_type": "stream",
     "text": [
      "Accuracy on test data: 60.0%\n",
      "Accuracy on train data: 60.1%\n",
      "F1 score on test data: 60.0%\n",
      "F1 score on train data: 60.1%\n"
     ]
    }
   ],
   "source": [
    "randomForest = RandomForestClassifier(max_depth=1, criterion='gini',min_samples_leaf=30, n_estimators=120, n_jobs=-1, random_state=1122)\n",
    "multilabel_model = MultiOutputClassifier(randomForest)\n",
    "multilabel_model.fit(X_train, y_train)\n",
    "\n",
    "print('Accuracy on test data: {:.1f}%'.format(accuracy_score(y_test, multilabel_model.predict(X_test))*100))\n",
    "print('Accuracy on train data: {:.1f}%'.format(accuracy_score(y_train, multilabel_model.predict(X_train))*100))\n",
    "\n",
    "print('F1 score on test data: {:.1f}%'.format(accuracy_score(y_test, multilabel_model.predict(X_test))*100))\n",
    "print('F1 score on train data: {:.1f}%'.format(accuracy_score(y_train, multilabel_model.predict(X_train))*100))"
   ]
  },
  {
   "cell_type": "markdown",
   "id": "4445ab71",
   "metadata": {},
   "source": [
    "# With PCA"
   ]
  },
  {
   "cell_type": "code",
   "execution_count": 189,
   "id": "12eefbc0",
   "metadata": {},
   "outputs": [],
   "source": [
    "X_train, X_test, y_train, y_test = train_test_split(X2, y, test_size=0.2, random_state=1122)"
   ]
  },
  {
   "cell_type": "code",
   "execution_count": 190,
   "id": "326cc994",
   "metadata": {},
   "outputs": [],
   "source": [
    "sc = StandardScaler()\n",
    "sc.fit(X_train)\n",
    "X_train=sc.transform(X_train)\n",
    "X_test=sc.transform(X_test)"
   ]
  },
  {
   "cell_type": "code",
   "execution_count": 191,
   "id": "e10838d4",
   "metadata": {},
   "outputs": [],
   "source": [
    "pca = PCA(n_components = 9)\n",
    "X_train = pca.fit_transform(X_train)\n",
    "X_test = pca.transform(X_test)"
   ]
  },
  {
   "cell_type": "code",
   "execution_count": 192,
   "id": "2edaf5b3",
   "metadata": {},
   "outputs": [
    {
     "data": {
      "text/plain": [
       "array([[-0.18327043, -0.20041101, -0.04727393, ...,  0.45500458,\n",
       "        -0.89731943, -0.87955082],\n",
       "       [ 0.20499621, -0.16402609, -1.56819133, ..., -1.50271721,\n",
       "         0.12615945,  0.28757806],\n",
       "       [-0.94716578,  0.19181536, -0.36647195, ...,  0.82887481,\n",
       "         0.34438982, -1.7459946 ],\n",
       "       ...,\n",
       "       [-0.75511237,  0.65944335,  1.83163049, ...,  0.14543752,\n",
       "         0.49110008, -0.58817735],\n",
       "       [ 1.2307224 ,  0.26578696,  0.75420684, ..., -0.82219947,\n",
       "        -1.00077303,  0.80578179],\n",
       "       [-0.83419663,  1.92591396, -1.75179337, ..., -0.24395835,\n",
       "         0.73926731, -0.20289999]])"
      ]
     },
     "execution_count": 192,
     "metadata": {},
     "output_type": "execute_result"
    }
   ],
   "source": [
    "X_train"
   ]
  },
  {
   "cell_type": "code",
   "execution_count": 193,
   "id": "141439b0",
   "metadata": {},
   "outputs": [
    {
     "name": "stdout",
     "output_type": "stream",
     "text": [
      "Accuracy on test data: 58.8%\n",
      "Accuracy on train data: 58.9%\n",
      "F1 score on test data: 58.8%\n",
      "F1 score on train data: 58.9%\n"
     ]
    }
   ],
   "source": [
    "randomForest = RandomForestClassifier(max_depth=1, criterion='gini',min_samples_leaf=30, n_estimators=120, n_jobs=-1, random_state=1122)\n",
    "multilabel_model = MultiOutputClassifier(randomForest)\n",
    "multilabel_model.fit(X_train, y_train)\n",
    "\n",
    "print('Accuracy on test data: {:.1f}%'.format(accuracy_score(y_test, multilabel_model.predict(X_test))*100))\n",
    "print('Accuracy on train data: {:.1f}%'.format(accuracy_score(y_train, multilabel_model.predict(X_train))*100))\n",
    "\n",
    "print('F1 score on test data: {:.1f}%'.format(accuracy_score(y_test, multilabel_model.predict(X_test))*100))\n",
    "print('F1 score on train data: {:.1f}%'.format(accuracy_score(y_train, multilabel_model.predict(X_train))*100))"
   ]
  },
  {
   "cell_type": "code",
   "execution_count": null,
   "id": "f4091d7f",
   "metadata": {},
   "outputs": [],
   "source": []
  }
 ],
 "metadata": {
  "kernelspec": {
   "display_name": "Python 3 (ipykernel)",
   "language": "python",
   "name": "python3"
  },
  "language_info": {
   "codemirror_mode": {
    "name": "ipython",
    "version": 3
   },
   "file_extension": ".py",
   "mimetype": "text/x-python",
   "name": "python",
   "nbconvert_exporter": "python",
   "pygments_lexer": "ipython3",
   "version": "3.8.5"
  }
 },
 "nbformat": 4,
 "nbformat_minor": 5
}
